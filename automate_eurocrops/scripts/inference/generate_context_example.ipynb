{
 "cells": [
  {
   "cell_type": "markdown",
   "id": "e3d1adbf",
   "metadata": {},
   "source": [
    "# Context generation for Retrieval Augmented Generation (RAG)\n",
    "RAG typically retrieves the related contexts when prompting.\n",
    "However, that requires the loading of 2 models which requires ~48GB of RAM\n",
    "To avoid CUDA out of memory error, this pipeline seperates the retrieval from the actual prompting.\n",
    "\n",
    "As such the retrieval is only based on the original description of the crop from GSA and not the entire prompt.\n",
    "This example calls the PrecomputedRAG function to find the top-k related texts saved in the FAISS vector store generated earlier.\n",
    "In PrecomputedRAG, the query is turned into embeddings using Qwen3 Embedding 8B and matched based on cosine similarity to the most similar texts in the FAISS store."
   ]
  },
  {
   "cell_type": "code",
   "execution_count": null,
   "id": "e6778f52",
   "metadata": {},
   "outputs": [
    {
     "name": "stderr",
     "output_type": "stream",
     "text": [
      "/opt/miniconda3/envs/llm/lib/python3.10/site-packages/transformers/utils/hub.py:105: FutureWarning: Using `TRANSFORMERS_CACHE` is deprecated and will be removed in v5 of Transformers. Use `HF_HOME` instead.\n",
      "  warnings.warn(\n"
     ]
    }
   ],
   "source": [
    "\n",
    "from pathlib import Path\n",
    "\n",
    "import pandas as pd\n",
    "import numpy as np\n",
    "import faiss\n",
    "from sentence_transformers import SentenceTransformer\n",
    "\n",
    "from generate_context import PrecomputedRAG"
   ]
  },
  {
   "cell_type": "code",
   "execution_count": null,
   "id": "e2ed0407",
   "metadata": {},
   "outputs": [],
   "source": [
    "index_path = '/home/automate_eurocrops/data/indices/agrovoc_agriprod_faiss.index'\n",
    "\n",
    "data_path = '/home/automate_eurocrops/data/indices/agrovoc_agriprod_metadata.pkl'\n",
    "\n",
    "data_root = '/home/automate_eurocrops/data/raw/'\n",
    "BW_name = 'BW.csv'\n",
    "BW = pd.read_csv(data_root+BW_name)\n",
    "\n",
    "original_name = BW['original_name']\n",
    "model_name = 'Qwen/Qwen3-Embedding-8B'\n",
    "\n"
   ]
  },
  {
   "cell_type": "code",
   "execution_count": 3,
   "id": "68e95502",
   "metadata": {},
   "outputs": [
    {
     "data": {
      "application/vnd.jupyter.widget-view+json": {
       "model_id": "b476335489a9470eb2144a57c21d0374",
       "version_major": 2,
       "version_minor": 0
      },
      "text/plain": [
       "Loading checkpoint shards:   0%|          | 0/4 [00:00<?, ?it/s]"
      ]
     },
     "metadata": {},
     "output_type": "display_data"
    },
    {
     "name": "stdout",
     "output_type": "stream",
     "text": [
      "Loaded 31018 precomputed embeddings from metadata.\n",
      "FAISS index: /home/eouser/tabVol/automate_eurocrops/data/indices/agrovoc_agriprod_faiss.index\n",
      "Query encoder: Qwen/Qwen3-Embedding-8B\n"
     ]
    }
   ],
   "source": [
    "preRAG = PrecomputedRAG(data_path, index_path,model_name)"
   ]
  },
  {
   "cell_type": "code",
   "execution_count": 15,
   "id": "e7cd42e1",
   "metadata": {},
   "outputs": [
    {
     "name": "stdout",
     "output_type": "stream",
     "text": [
      "Query crop:  Winterweichweizen\n",
      "primitive wheat's german translation is alte Weizenart, primitive wheat's french translation is blé primitif, primitive wheat's includes is Dasypyrum villosum, primitive wheat's includes in german is Dasypyrum villosum, primitive wheat's includes in french is Dasypyrum villosum\n",
      "\n",
      "primitive wheat's german translation is alte Weizenart, primitive wheat's french translation is blé primitif, primitive wheat's includes is Triticum compactum, primitive wheat's includes in german is Triticum compactum, primitive wheat's includes in french is Triticum compactum\n",
      "\n",
      "Winter durum wheat's french name is Blé dur d'hiver, Winter durum wheat's german name is Winterhartweizen\n",
      "\n",
      "Common winter wheat and spelt's french name is Blé tendre et épeautre d'hiver, Common winter wheat and spelt's german name is Winterweichweizen und Dinkel\n",
      "\n",
      "Winter triticale's french name is Triticale d'hiver, Winter triticale's german name is Wintertriticale\n"
     ]
    }
   ],
   "source": [
    "test_crop = original_name [4]\n",
    "context_s = preRAG.get_context_string(test_crop)\n",
    "print('Query crop: ', test_crop)\n",
    "print(context_s)"
   ]
  },
  {
   "cell_type": "code",
   "execution_count": null,
   "id": "4bf47d98",
   "metadata": {},
   "outputs": [],
   "source": []
  }
 ],
 "metadata": {
  "kernelspec": {
   "display_name": "llm",
   "language": "python",
   "name": "python3"
  },
  "language_info": {
   "codemirror_mode": {
    "name": "ipython",
    "version": 3
   },
   "file_extension": ".py",
   "mimetype": "text/x-python",
   "name": "python",
   "nbconvert_exporter": "python",
   "pygments_lexer": "ipython3",
   "version": "3.10.18"
  }
 },
 "nbformat": 4,
 "nbformat_minor": 5
}
