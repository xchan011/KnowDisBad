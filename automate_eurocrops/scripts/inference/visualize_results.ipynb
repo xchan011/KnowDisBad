{
 "cells": [
  {
   "cell_type": "markdown",
   "id": "d163b49c",
   "metadata": {},
   "source": [
    "Compare the mistral generated mappings to human mappings"
   ]
  },
  {
   "cell_type": "code",
   "execution_count": null,
   "id": "21d820e6",
   "metadata": {},
   "outputs": [],
   "source": [
    "ground_truth_file = '/home/automate_eurocrops/data/raw/BW.csv'\n",
    "mistral_file = '/home/automate_eurocrops/results/RAG_dpl_BW_results_consensus.json'"
   ]
  },
  {
   "cell_type": "code",
   "execution_count": 28,
   "id": "89aec511",
   "metadata": {},
   "outputs": [],
   "source": [
    "import json\n",
    "import pandas as pd"
   ]
  },
  {
   "cell_type": "code",
   "execution_count": 29,
   "id": "8826c15b",
   "metadata": {},
   "outputs": [],
   "source": [
    "gt = pd.read_csv(ground_truth_file)\n",
    "with open(mistral_file  , 'r') as file:\n",
    "    mistral = json.load(file)   \n",
    "mistral_df = pd.DataFrame(mistral)   "
   ]
  },
  {
   "cell_type": "code",
   "execution_count": 30,
   "id": "f22adc48",
   "metadata": {},
   "outputs": [],
   "source": [
    "cf_df = pd.concat([ gt,mistral_df], axis=1)\n",
    "cf_df ['match'] = cf_df ['HCAT4_name'] == cf_df['HCAT_name']"
   ]
  },
  {
   "cell_type": "code",
   "execution_count": 31,
   "id": "4768799e",
   "metadata": {},
   "outputs": [
    {
     "name": "stdout",
     "output_type": "stream",
     "text": [
      "Accuracy:  0.6858974358974359\n"
     ]
    }
   ],
   "source": [
    "print('Accuracy: ', cf_df['match'].sum()/len(cf_df))"
   ]
  },
  {
   "cell_type": "code",
   "execution_count": null,
   "id": "f2b07d37",
   "metadata": {},
   "outputs": [],
   "source": []
  }
 ],
 "metadata": {
  "kernelspec": {
   "display_name": "llm",
   "language": "python",
   "name": "python3"
  },
  "language_info": {
   "codemirror_mode": {
    "name": "ipython",
    "version": 3
   },
   "file_extension": ".py",
   "mimetype": "text/x-python",
   "name": "python",
   "nbconvert_exporter": "python",
   "pygments_lexer": "ipython3",
   "version": "3.10.18"
  }
 },
 "nbformat": 4,
 "nbformat_minor": 5
}
