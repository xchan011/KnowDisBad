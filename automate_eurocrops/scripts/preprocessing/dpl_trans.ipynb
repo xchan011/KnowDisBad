{
 "cells": [
  {
   "cell_type": "markdown",
   "id": "a6e240a3",
   "metadata": {},
   "source": [
    "# Create the dpl translations for RAG\n",
    "Call dpl API, save translations to excel\n"
   ]
  },
  {
   "cell_type": "code",
   "execution_count": null,
   "id": "4f66774a",
   "metadata": {},
   "outputs": [],
   "source": [
    "import deepl\n",
    "import pandas as pd\n",
    "import time"
   ]
  },
  {
   "cell_type": "code",
   "execution_count": null,
   "id": "20c6c1d2",
   "metadata": {},
   "outputs": [],
   "source": [
    "# to use deepl you need an API from deepl\n",
    "api_key = \"api_key_here\""
   ]
  },
  {
   "cell_type": "code",
   "execution_count": null,
   "id": "3ed0015c",
   "metadata": {},
   "outputs": [],
   "source": [
    "# loading the list of crop descriptions to be translated\n",
    "d_path = '/home/automate_eurocrops/data/raw/' \n",
    "sv_path = '/home/automate_eurocrops/data/processed'\n",
    "sv_name = 'BW_trans.csv'\n",
    "file_name = 'BW.csv'\n",
    "data = pd.read_csv(d_path+file_name)\n",
    "text = pd.DataFrame(data['original_name'])\n"
   ]
  },
  {
   "cell_type": "code",
   "execution_count": null,
   "id": "947ab139",
   "metadata": {},
   "outputs": [],
   "source": [
    "# processing in batch and with forced sleep delays as frequent api calls will lead to dpl rejecting the call\n",
    "\n",
    "def translate_batch(texts, api_key, batch_size=5, delay_between_batches=10):\n",
    "    translator = deepl.Translator(api_key)\n",
    "    \n",
    "    all_translations = []\n",
    "    \n",
    "    for i in range(0, len(texts), batch_size):\n",
    "        batch = texts[i:i+batch_size]\n",
    "        batch_translations = []\n",
    "        \n",
    "        print(f\"Processing batch {i//batch_size + 1} ({i+1}-{min(i+batch_size, len(texts))} of {len(texts)})\")\n",
    "        \n",
    "        for text_val in batch:\n",
    "\n",
    "            try:\n",
    "                result = translator.translate_text(text_val, target_lang=\"EN-GB\")\n",
    "                batch_translations.append(result)\n",
    "                time.sleep(0.5)  # Small delay between individual requests\n",
    "            except Exception as e:\n",
    "                print(f\"Failed to translate '{text_val}': {e}\")\n",
    "                batch_translations.append(text_val)\n",
    "        \n",
    "        all_translations.extend(batch_translations)\n",
    "        \n",
    "        # Long pause between batches\n",
    "        if i + batch_size < len(texts):\n",
    "            print(f\"Waiting {delay_between_batches}s before next batch...\")\n",
    "            time.sleep(delay_between_batches)\n",
    "    \n",
    "    return all_translations\n"
   ]
  },
  {
   "cell_type": "code",
   "execution_count": null,
   "id": "a37298a6",
   "metadata": {},
   "outputs": [],
   "source": [
    "translated_texts = translate_batch(text['original_name'].tolist(), api_key, batch_size=5, delay_between_batches=10)\n",
    "text['dpl_trans'] = translated_texts"
   ]
  },
  {
   "cell_type": "code",
   "execution_count": null,
   "id": "98f44d8d",
   "metadata": {},
   "outputs": [],
   "source": [
    "# saving the results\n",
    "text.to_excel(sv_path+sv_name, index=False)"
   ]
  },
  {
   "cell_type": "code",
   "execution_count": null,
   "id": "594e8a29",
   "metadata": {},
   "outputs": [],
   "source": []
  }
 ],
 "metadata": {
  "language_info": {
   "name": "python"
  }
 },
 "nbformat": 4,
 "nbformat_minor": 5
}
