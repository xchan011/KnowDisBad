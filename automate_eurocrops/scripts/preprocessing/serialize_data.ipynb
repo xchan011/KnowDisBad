{
 "cells": [
  {
   "cell_type": "markdown",
   "id": "eb32b5ca",
   "metadata": {},
   "source": [
    "\n",
    "# Preparing data for ingestion into a database for Retrieval Augmented Generation.\n",
    "AGROVOC and Agriprod are both structed datasets (excel sheets) that must be turned into prose like structure.\n",
    "Here we choose to serialize them row wise and change the column names into more meaningful headings for the best performance\n",
    "The column conceptLabel_en/Name_EN is the crop description in English. This is reused in the serialization of every single column to further emphasize the relationship"
   ]
  },
  {
   "cell_type": "code",
   "execution_count": 7,
   "id": "babfa747",
   "metadata": {},
   "outputs": [],
   "source": [
    "# first agrovoc file including crops and plant products\n",
    "\n",
    "import pandas as pd\n",
    "import json\n"
   ]
  },
  {
   "cell_type": "code",
   "execution_count": null,
   "id": "dc46fe7a",
   "metadata": {},
   "outputs": [],
   "source": [
    "# function to convert the excel entries into text by row while including the column names into the text\n",
    "\n",
    "def serialize_df(df: pd.DataFrame) -> list[str]:\n",
    "    \"\"\"\n",
    "    Convert each row of a dataframe into a string of the form:\n",
    "    \"<first_column>'s <col> is <value>, ...\"\n",
    "    e.g <Brussels sprouts>'s <german translation> is <Rosenkohl>\n",
    "    Parameters\n",
    "    ----------\n",
    "    df : pd.DataFrame\n",
    "        The dataframe to process. The first column is treated as the \"entity\".\n",
    "\n",
    "    Returns\n",
    "    -------\n",
    "    list[str]\n",
    "        A list of formatted strings for each row.\n",
    "    \"\"\"\n",
    "    if df.empty or len(df.columns) < 2:\n",
    "        return []\n",
    "\n",
    "    first_col = df.columns[0]\n",
    "\n",
    "    rows = []\n",
    "    for _, row in df.iterrows():\n",
    "        parts = []\n",
    "        for col in df.columns[1:]:\n",
    "            val = row[col]\n",
    "            if pd.notna(val) and str(val).strip() != \"\":\n",
    "                parts.append(f\"{row[first_col]}'s {col} is {val}\")\n",
    "        rows.append(\", \".join(parts))\n",
    "\n",
    "    return rows"
   ]
  },
  {
   "cell_type": "code",
   "execution_count": 9,
   "id": "16e5540c",
   "metadata": {},
   "outputs": [],
   "source": [
    "\n",
    "agrovoc_df1 = pd.read_csv('/home/eouser/tabVol/automate_eurocrops/data/raw/Query_multilingual_includes_useof.csv')"
   ]
  },
  {
   "cell_type": "code",
   "execution_count": 10,
   "id": "57a25900",
   "metadata": {},
   "outputs": [],
   "source": [
    "# remove the first column that only contain url links\n",
    "agrovoc_df1 = agrovoc_df1.drop('concept', axis=1)\n",
    "\n",
    "# since the original column names are not very informative, we convert them to something that serializes better\n",
    "agrovoc_df1 = agrovoc_df1.rename(columns={'conceptLabel_en':'english label', 'conceptLabel_de':'german translation', 'conceptLabel_fr':'french translation','conceptDef_en': 'english definition', 'conceptDef_de':'german definition', 'conceptDef_fr':'french definition', 'altLabel_en': 'synonym',\n",
    "       'altLabel_de': 'german synonym', 'altLabel_fr':'french synonym', 'includesLabel_en':'includes', 'includesLabel_de':'includes in german',\n",
    "       'includesLabel_fr':'includes in french', 'isUseOfLabel_en':'use of', 'isUseOfLabel_de':'use of in german',\n",
    "       'isUseOfLabel_fr':'use of in french', 'producesLabel_en':'produce', 'producesLabel_de':'produce in german',\n",
    "       'producesLabel_fr':'produce in french', 'isProducedByLabel_en':'produced by', 'isProducedByLabel_de':'produced by in german',\n",
    "       'isProducedByLabel_fr':'produced by in french'  })\n",
    "# serialize into rows of strings\n",
    "df1_rows = serialize_df(agrovoc_df1 )       "
   ]
  },
  {
   "cell_type": "code",
   "execution_count": 11,
   "id": "22e86278",
   "metadata": {},
   "outputs": [],
   "source": [
    "# continue with the next agrovoc file\n",
    "# this includes ornamental plants and forest products \n",
    "agrovoc_df2 = pd.read_csv('/home/eouser/tabVol/automate_eurocrops/data/raw/Query_ornamentals_trees.csv')\n",
    "agrovoc_df2 = agrovoc_df2.drop('concept', axis=1)\n",
    "agrovoc_df2 = agrovoc_df2.rename(columns={'conceptLabel_en':'english label', 'conceptLabel_de':'german translation', 'conceptLabel_fr':'french translation','conceptDef_en': 'english definition', 'conceptDef_de':'german definition', 'conceptDef_fr':'french definition', 'altLabel_en': 'synonym',\n",
    "       'altLabel_de': 'german synonym', 'altLabel_fr':'french synonym', 'includesLabel_en':'includes', 'includesLabel_de':'includes in german',\n",
    "       'includesLabel_fr':'includes in french', 'isUseOfLabel_en':'use of', 'isUseOfLabel_de':'use of in german',\n",
    "       'isUseOfLabel_fr':'use of in french', 'producesLabel_en':'produce', 'producesLabel_de':'produce in german',\n",
    "       'producesLabel_fr':'produce in french', 'isProducedByLabel_en':'produced by', 'isProducedByLabel_de':'produced by in german',\n",
    "       'isProducedByLabel_fr':'produced by in french'  })\n",
    "df2_rows =    serialize_df(agrovoc_df2)      "
   ]
  },
  {
   "cell_type": "code",
   "execution_count": 12,
   "id": "84df20b2",
   "metadata": {},
   "outputs": [
    {
     "name": "stderr",
     "output_type": "stream",
     "text": [
      "/tmp/ipykernel_877972/2532898190.py:5: FutureWarning: DataFrame.applymap has been deprecated. Use DataFrame.map instead.\n",
      "  agriprod_df = agriprod_df.applymap(lambda x: x.replace(\"\\n•\", \"\") if isinstance(x, str) else x)\n",
      "/tmp/ipykernel_877972/2532898190.py:6: FutureWarning: DataFrame.applymap has been deprecated. Use DataFrame.map instead.\n",
      "  agriprod_df = agriprod_df.applymap(lambda x: x.replace(\"\\n o\", \"\") if isinstance(x, str) else x)\n"
     ]
    }
   ],
   "source": [
    "# now load agriprod dataset\n",
    "agriprod_df = pd.read_excel('/home/eouser/tabVol/automate_eurocrops/data/raw/AGRIPROD_Codes_Names_Notes_crops_only.xlsx')\n",
    "\n",
    "# remove the special symbols in theagriprod dataset\n",
    "agriprod_df = agriprod_df.applymap(lambda x: x.replace(\"\\n•\", \"\") if isinstance(x, str) else x)\n",
    "agriprod_df = agriprod_df.applymap(lambda x: x.replace(\"\\n o\", \"\") if isinstance(x, str) else x)\n",
    "\n",
    "# drop the irrelevant columns \n",
    "agriprod_df = agriprod_df.drop(['Code','IFS_T_INPUT', 'IFS_T_DERIVED'] , axis=1)\n",
    "\n",
    "# rename for better flow\n",
    "agriprod_df = agriprod_df.rename(columns={'Name_EN':'english name', 'Name_FR':'french name', 'Name_DE': 'german name' })\n",
    "\n",
    "# serialize\n",
    "agriprod_strings =serialize_df(agriprod_df)"
   ]
  },
  {
   "cell_type": "code",
   "execution_count": 13,
   "id": "81dc49e1",
   "metadata": {},
   "outputs": [],
   "source": [
    "# combine all 3 datasets\n",
    "combined_strings = df1_rows+df2_rows+agriprod_strings"
   ]
  },
  {
   "cell_type": "code",
   "execution_count": 14,
   "id": "80535578",
   "metadata": {},
   "outputs": [],
   "source": [
    "with open('/home/eouser/tabVol/automate_eurocrops/data/processed/agrovoc_agriprod_database.txt', 'w', encoding='utf-8') as f:\n",
    "    for row in combined_strings:\n",
    "\n",
    "        f.write(row + '\\n')"
   ]
  }
 ],
 "metadata": {
  "kernelspec": {
   "display_name": "llm",
   "language": "python",
   "name": "python3"
  },
  "language_info": {
   "codemirror_mode": {
    "name": "ipython",
    "version": 3
   },
   "file_extension": ".py",
   "mimetype": "text/x-python",
   "name": "python",
   "nbconvert_exporter": "python",
   "pygments_lexer": "ipython3",
   "version": "3.10.18"
  }
 },
 "nbformat": 4,
 "nbformat_minor": 5
}
